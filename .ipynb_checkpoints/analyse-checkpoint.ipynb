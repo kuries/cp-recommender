{
 "cells": [
  {
   "cell_type": "markdown",
   "metadata": {},
   "source": [
    "# CP Recommendation System\n"
   ]
  },
  {
   "cell_type": "markdown",
   "metadata": {},
   "source": [
    "## Content Based filtering\n",
    "\n",
    "First let's start with content based filtering\n",
    "Here, we'll be concatenating the tags into a single string and run cosine similarity based on text to find the similarity between this particular problem and other problems\n"
   ]
  },
  {
   "cell_type": "code",
   "execution_count": 1,
   "metadata": {},
   "outputs": [
    {
     "name": "stdout",
     "output_type": "stream",
     "text": [
      "contestId       0\n",
      "index           0\n",
      "name            0\n",
      "type            0\n",
      "points       2133\n",
      "rating        179\n",
      "tags            0\n",
      "dtype: int64\n"
     ]
    }
   ],
   "source": [
    "#importing stuff\n",
    "import requests\n",
    "import json\n",
    "from pandas import json_normalize\n",
    "import pandas as pd\n",
    "\n",
    "#load data\n",
    "tag_set = set()\n",
    "data = requests.get(\"https://codeforces.com/api/problemset.problems\").json()\n",
    "problems_json = data[\"result\"][\"problems\"]\n",
    "\n",
    "problems = json_normalize(problems_json)\n",
    "print(problems.isnull().sum())"
   ]
  },
  {
   "cell_type": "markdown",
   "metadata": {},
   "source": [
    "As we can see, one of the columns has the name index which is overriding the original column \"index\", so let's rename it to something else."
   ]
  },
  {
   "cell_type": "code",
   "execution_count": 2,
   "metadata": {},
   "outputs": [
    {
     "name": "stdout",
     "output_type": "stream",
     "text": [
      "contestId       0\n",
      "ID              0\n",
      "name            0\n",
      "type            0\n",
      "points       2133\n",
      "rating        179\n",
      "tags            0\n",
      "dtype: int64\n"
     ]
    }
   ],
   "source": [
    "column_list = list(problems.columns)\n",
    "column_list[1] = \"ID\"\n",
    "problems.columns = column_list\n",
    "print(problems.isnull().sum())"
   ]
  },
  {
   "cell_type": "markdown",
   "metadata": {},
   "source": [
    "### Get Data From Users\n",
    "\n",
    "Time to get the user dataset, we'll collect the data of all users who participated in atleast one contest."
   ]
  },
  {
   "cell_type": "code",
   "execution_count": 3,
   "metadata": {},
   "outputs": [],
   "source": [
    "def get_users():\n",
    "    user_url = \"https://codeforces.com/api/user.ratedList\"\n",
    "    user_data = requests.get(user_url).json()\n",
    "\n",
    "    user_data = user_data[\"result\"]\n",
    "\n",
    "    df = json_normalize(user_data)\n",
    "    return df\n",
    "\n",
    "def get_users_from_csv():\n",
    "    df = pd.read_csv(\"data/df_user.csv\", encoding='utf-8')\n",
    "    return df\n"
   ]
  },
  {
   "cell_type": "markdown",
   "metadata": {},
   "source": [
    "The below code gets the submissions of one particular user."
   ]
  },
  {
   "cell_type": "code",
   "execution_count": 4,
   "metadata": {},
   "outputs": [],
   "source": [
    "def get_user_submissions(handle):\n",
    "    start, count = (1, 999)\n",
    "\n",
    "    user_url = \"https://codeforces.com/api/user.status?handle={}&from={}&count={}\"\n",
    "    user_url = user_url.format(handle, start, count)\n",
    "    user_data = requests.get(user_url).json()\n",
    "\n",
    "    submissions = user_data[\"result\"]\n",
    "    df = json_normalize(submissions)\n",
    "    #print(df[df[\"verdict\"] == \"OK\"][\"problem.name\"] )\n",
    "    return df\n",
    "\n",
    "#df_submission = get_user_submissions(\"infnite_coder\")"
   ]
  },
  {
   "cell_type": "markdown",
   "metadata": {},
   "source": [
    "Now lets remove the users based on the following conditions\n",
    " - have rating less than or equal to 0\n",
    " - have stayed inactive for more than 1 year.\n",
    "\n",
    " ### Note: Run this below cell only if there is no csv file present, otherwise skip to the next one."
   ]
  },
  {
   "cell_type": "code",
   "execution_count": 40,
   "metadata": {},
   "outputs": [],
   "source": [
    "from datetime import datetime, date, timedelta\n",
    "\n",
    "df_user = get_users()\n",
    "\n",
    "df_user = df_user[['handle', 'country', 'rank', 'rating', 'maxRating', 'lastOnlineTimeSeconds']][df_user['rating']>0]\n",
    "\n",
    "now = datetime.now()\n",
    "lastYear = now.replace(year=now.year-1)\n",
    "\n",
    "df_user[\"lastOnline\"] = df_user['lastOnlineTimeSeconds'].map(lambda x: datetime.fromtimestamp(x))\n",
    "\n",
    "df_user = df_user[df_user['lastOnline']  > lastYear][df_user.columns.difference(['lastOnlineTimeSeconds'], sort=False)]\n",
    "\n",
    "df_user.to_csv(\"data/df_user.csv\", index=False, encoding='utf-8')"
   ]
  },
  {
   "cell_type": "markdown",
   "metadata": {},
   "source": [
    "Run this cell to load values into a dataframe from csv\n",
    "### Note: Run this cell if you already have a df_user.csv with values stored."
   ]
  },
  {
   "cell_type": "code",
   "execution_count": 5,
   "metadata": {},
   "outputs": [
    {
     "name": "stdout",
     "output_type": "stream",
     "text": [
      "              handle        country                   rank  rating  maxRating  \\\n",
      "0            tourist        Belarus  legendary grandmaster    3707       3822   \n",
      "1  Retired_MiFaFaOvO          Samoa  legendary grandmaster    3681       3681   \n",
      "2               Benq  United States  legendary grandmaster    3672       3797   \n",
      "3          Radewoosh         Poland  legendary grandmaster    3655       3720   \n",
      "4             ksun48         Canada  legendary grandmaster    3547       3654   \n",
      "\n",
      "            lastOnline  \n",
      "0  2021-09-23 14:19:54  \n",
      "1  2021-09-23 00:06:49  \n",
      "2  2021-09-23 08:59:18  \n",
      "3  2021-09-18 22:49:25  \n",
      "4  2021-09-23 08:32:43  \n"
     ]
    }
   ],
   "source": [
    "df_user = get_users_from_csv()\n",
    "print(df_user.head())"
   ]
  },
  {
   "cell_type": "code",
   "execution_count": 6,
   "metadata": {},
   "outputs": [],
   "source": [
    "def get_incorrect_user_submission(handle):\n",
    "    user_submission = get_user_submissions(handle)\n",
    "    return user_submission[user_submission[\"verdict\"] != \"OK\"][\"problem.name\"].head()"
   ]
  },
  {
   "cell_type": "code",
   "execution_count": 16,
   "metadata": {},
   "outputs": [],
   "source": [
    "import numpy as np\n",
    "\n",
    "cols=['handle', 'problem_name', 'wrong_submission']\n",
    "user_problem_interaction = pd.DataFrame(columns=cols)\n",
    "\n",
    "for user in df_user['handle'].head():\n",
    "    incorrect_user_submission = get_incorrect_user_submission(user)\n",
    "\n",
    "    temp = np.unique(incorrect_user_submission, return_counts=True)\n",
    "    '''\n",
    "    for item in problem_freq:\n",
    "        new_row = [user, item, problem_freq[item]]\n",
    "        df_new_row = pd.DataFrame([new_row], columns=cols)\n",
    "        user_problem_interaction = pd.concat([user_problem_interaction, df_new_row])\n",
    "        #user_problem_interaction.append({'handle': user, 'problem_name': item, 'wrong_submission': problem_freq[item]}, ignore_index=True)\n",
    "    '''\n",
    "user_problem_interaction = user_problem_interaction.reset_index(drop=True)\n",
    "user_problem_interaction.to_csv(\"data/user_problem_interaction.csv\", index=False, encoding='utf-8')"
   ]
  },
  {
   "cell_type": "markdown",
   "metadata": {},
   "source": [
    "### Cosine Similarity\n",
    "Now we are gonna start our project with content based filtering with cosine similarity"
   ]
  },
  {
   "cell_type": "code",
   "execution_count": null,
   "metadata": {},
   "outputs": [],
   "source": [
    "import pandas as pd\n",
    "import numpy as np\n",
    "\n",
    "from sklearn.feature_extraction.text import CountVectorizer\n",
    "from sklearn.metrics.pairwise import cosine_similarity\n",
    "\n",
    "def combine_features(row):\n",
    "    return row[\"type\"]+\" \"+ \" \".join(row[\"tags\"])\n",
    "\n",
    "problems[\"combined_features\"] = problems.apply(combine_features, axis=1)\n",
    "\n",
    "count_matrix = CountVectorizer().fit_transform(problems[\"combined_features\"])\n",
    "cosine_sim = cosine_similarity(count_matrix)"
   ]
  },
  {
   "cell_type": "code",
   "execution_count": null,
   "metadata": {},
   "outputs": [],
   "source": [
    "def index_from_name(name):\n",
    "    return problems[problems.name == name].index\n",
    "\n",
    "problem_name = \"Armchairs\"\n",
    "index_of_prob = index_from_name(problem_name).values[0]\n",
    "tgs = problems.iloc[index_of_prob].tags\n",
    "\n",
    "# print(problems[problems[\"tags\"]])"
   ]
  },
  {
   "cell_type": "code",
   "execution_count": 1,
   "metadata": {},
   "outputs": [
    {
     "ename": "FeatureNotFound",
     "evalue": "Couldn't find a tree builder with the features you requested: lxml. Do you need to install a parser library?",
     "output_type": "error",
     "traceback": [
      "\u001b[1;31m---------------------------------------------------------------------------\u001b[0m",
      "\u001b[1;31mFeatureNotFound\u001b[0m                           Traceback (most recent call last)",
      "\u001b[1;32m~\\AppData\\Local\\Temp/ipykernel_20412/2385016958.py\u001b[0m in \u001b[0;36m<module>\u001b[1;34m\u001b[0m\n\u001b[0;32m      5\u001b[0m \u001b[1;33m\u001b[0m\u001b[0m\n\u001b[0;32m      6\u001b[0m \u001b[0mr\u001b[0m \u001b[1;33m=\u001b[0m \u001b[0mrequests\u001b[0m\u001b[1;33m.\u001b[0m\u001b[0mpost\u001b[0m\u001b[1;33m(\u001b[0m\u001b[1;34m'https://leetcode.com/graphql'\u001b[0m\u001b[1;33m,\u001b[0m \u001b[0mjson\u001b[0m \u001b[1;33m=\u001b[0m \u001b[0mdata\u001b[0m\u001b[1;33m)\u001b[0m\u001b[1;33m.\u001b[0m\u001b[0mjson\u001b[0m\u001b[1;33m(\u001b[0m\u001b[1;33m)\u001b[0m\u001b[1;33m\u001b[0m\u001b[1;33m\u001b[0m\u001b[0m\n\u001b[1;32m----> 7\u001b[1;33m \u001b[0msoup\u001b[0m \u001b[1;33m=\u001b[0m \u001b[0mbs\u001b[0m\u001b[1;33m(\u001b[0m\u001b[0mr\u001b[0m\u001b[1;33m[\u001b[0m\u001b[1;34m'data'\u001b[0m\u001b[1;33m]\u001b[0m\u001b[1;33m[\u001b[0m\u001b[1;34m'question'\u001b[0m\u001b[1;33m]\u001b[0m\u001b[1;33m[\u001b[0m\u001b[1;34m'content'\u001b[0m\u001b[1;33m]\u001b[0m\u001b[1;33m,\u001b[0m \u001b[1;34m'lxml'\u001b[0m\u001b[1;33m)\u001b[0m\u001b[1;33m\u001b[0m\u001b[1;33m\u001b[0m\u001b[0m\n\u001b[0m\u001b[0;32m      8\u001b[0m \u001b[0mtitle\u001b[0m \u001b[1;33m=\u001b[0m \u001b[0mr\u001b[0m\u001b[1;33m[\u001b[0m\u001b[1;34m'data'\u001b[0m\u001b[1;33m]\u001b[0m\u001b[1;33m[\u001b[0m\u001b[1;34m'question'\u001b[0m\u001b[1;33m]\u001b[0m\u001b[1;33m[\u001b[0m\u001b[1;34m'title'\u001b[0m\u001b[1;33m]\u001b[0m\u001b[1;33m\u001b[0m\u001b[1;33m\u001b[0m\u001b[0m\n\u001b[0;32m      9\u001b[0m \u001b[0mquestion\u001b[0m \u001b[1;33m=\u001b[0m  \u001b[0msoup\u001b[0m\u001b[1;33m.\u001b[0m\u001b[0mget_text\u001b[0m\u001b[1;33m(\u001b[0m\u001b[1;33m)\u001b[0m\u001b[1;33m.\u001b[0m\u001b[0mreplace\u001b[0m\u001b[1;33m(\u001b[0m\u001b[1;34m'\\n'\u001b[0m\u001b[1;33m,\u001b[0m\u001b[1;34m' '\u001b[0m\u001b[1;33m)\u001b[0m\u001b[1;33m\u001b[0m\u001b[1;33m\u001b[0m\u001b[0m\n",
      "\u001b[1;32mD:\\Recommender\\recommender\\lib\\site-packages\\bs4\\__init__.py\u001b[0m in \u001b[0;36m__init__\u001b[1;34m(self, markup, features, builder, parse_only, from_encoding, exclude_encodings, element_classes, **kwargs)\u001b[0m\n\u001b[0;32m    243\u001b[0m             \u001b[0mbuilder_class\u001b[0m \u001b[1;33m=\u001b[0m \u001b[0mbuilder_registry\u001b[0m\u001b[1;33m.\u001b[0m\u001b[0mlookup\u001b[0m\u001b[1;33m(\u001b[0m\u001b[1;33m*\u001b[0m\u001b[0mfeatures\u001b[0m\u001b[1;33m)\u001b[0m\u001b[1;33m\u001b[0m\u001b[1;33m\u001b[0m\u001b[0m\n\u001b[0;32m    244\u001b[0m             \u001b[1;32mif\u001b[0m \u001b[0mbuilder_class\u001b[0m \u001b[1;32mis\u001b[0m \u001b[1;32mNone\u001b[0m\u001b[1;33m:\u001b[0m\u001b[1;33m\u001b[0m\u001b[1;33m\u001b[0m\u001b[0m\n\u001b[1;32m--> 245\u001b[1;33m                 raise FeatureNotFound(\n\u001b[0m\u001b[0;32m    246\u001b[0m                     \u001b[1;34m\"Couldn't find a tree builder with the features you \"\u001b[0m\u001b[1;33m\u001b[0m\u001b[1;33m\u001b[0m\u001b[0m\n\u001b[0;32m    247\u001b[0m                     \u001b[1;34m\"requested: %s. Do you need to install a parser library?\"\u001b[0m\u001b[1;33m\u001b[0m\u001b[1;33m\u001b[0m\u001b[0m\n",
      "\u001b[1;31mFeatureNotFound\u001b[0m: Couldn't find a tree builder with the features you requested: lxml. Do you need to install a parser library?"
     ]
    }
   ],
   "source": [
    "import requests\n",
    "from bs4 import BeautifulSoup as bs\n",
    "\n",
    "data = {\"operationName\":\"questionData\",\"variables\":{\"titleSlug\":\"two-sum\"},\"query\":\"query questionData($titleSlug: String!) {\\n  question(titleSlug: $titleSlug) {\\n    questionId\\n    questionFrontendId\\n    boundTopicId\\n    title\\n    titleSlug\\n    content\\n    translatedTitle\\n    translatedContent\\n    isPaidOnly\\n    difficulty\\n    likes\\n    dislikes\\n    isLiked\\n    similarQuestions\\n    contributors {\\n      username\\n      profileUrl\\n      avatarUrl\\n      __typename\\n    }\\n    langToValidPlayground\\n    topicTags {\\n      name\\n      slug\\n      translatedName\\n      __typename\\n    }\\n    companyTagStats\\n    codeSnippets {\\n      lang\\n      langSlug\\n      code\\n      __typename\\n    }\\n    stats\\n    hints\\n    solution {\\n      id\\n      canSeeDetail\\n      __typename\\n    }\\n    status\\n    sampleTestCase\\n    metaData\\n    judgerAvailable\\n    judgeType\\n    mysqlSchemas\\n    enableRunCode\\n    enableTestMode\\n    envInfo\\n    libraryUrl\\n    __typename\\n  }\\n}\\n\"}\n",
    "\n",
    "r = requests.post('https://leetcode.com/graphql', json = data).json()\n",
    "soup = bs(r['data']['question']['content'], 'lxml')\n",
    "title = r['data']['question']['title']\n",
    "question =  soup.get_text().replace('\\n',' ')\n",
    "print(title, '\\n', question)\n",
    "\n"
   ]
  }
 ],
 "metadata": {
  "interpreter": {
   "hash": "90f813e45ffbc6032975d51568b4e3652c90798aae0741a6c44bb16ed2e63418"
  },
  "kernelspec": {
   "display_name": "Python 3 (ipykernel)",
   "language": "python",
   "name": "python3"
  },
  "language_info": {
   "codemirror_mode": {
    "name": "ipython",
    "version": 3
   },
   "file_extension": ".py",
   "mimetype": "text/x-python",
   "name": "python",
   "nbconvert_exporter": "python",
   "pygments_lexer": "ipython3",
   "version": "3.9.1"
  }
 },
 "nbformat": 4,
 "nbformat_minor": 2
}

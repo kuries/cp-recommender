{
 "cells": [
  {
   "cell_type": "markdown",
   "source": [
    "# CP Recommendation System\n"
   ],
   "metadata": {}
  },
  {
   "cell_type": "markdown",
   "source": [
    "## Content Based filtering\n",
    "\n",
    "First let's start with content based filtering\n",
    "Here, we'll be concatenating the tags into a single string and run cosine similarity based on text to find the similarity between this particular problem and other problems\n"
   ],
   "metadata": {}
  },
  {
   "cell_type": "code",
   "execution_count": 1,
   "source": [
    "#importing stuff\r\n",
    "import requests\r\n",
    "import json\r\n",
    "from pandas import json_normalize\r\n",
    "import pandas as pd\r\n",
    "\r\n",
    "#load data\r\n",
    "tag_set = set()\r\n",
    "data = requests.get(\"https://codeforces.com/api/problemset.problems\").json()\r\n",
    "problems_json = data[\"result\"][\"problems\"]\r\n",
    "\r\n",
    "problems = json_normalize(problems_json)\r\n",
    "print(problems.isnull().sum())"
   ],
   "outputs": [
    {
     "output_type": "stream",
     "name": "stdout",
     "text": [
      "contestId       0\n",
      "index           0\n",
      "name            0\n",
      "type            0\n",
      "points       2133\n",
      "rating        179\n",
      "tags            0\n",
      "dtype: int64\n"
     ]
    }
   ],
   "metadata": {}
  },
  {
   "cell_type": "markdown",
   "source": [
    "As we can see, one of the columns has the name index which is overriding the original column \"index\", so let's rename it to something else."
   ],
   "metadata": {}
  },
  {
   "cell_type": "code",
   "execution_count": 2,
   "source": [
    "column_list = list(problems.columns)\r\n",
    "column_list[1] = \"ID\"\r\n",
    "problems.columns = column_list\r\n",
    "print(problems.isnull().sum())"
   ],
   "outputs": [
    {
     "output_type": "stream",
     "name": "stdout",
     "text": [
      "contestId       0\n",
      "ID              0\n",
      "name            0\n",
      "type            0\n",
      "points       2133\n",
      "rating        179\n",
      "tags            0\n",
      "dtype: int64\n"
     ]
    }
   ],
   "metadata": {}
  },
  {
   "cell_type": "markdown",
   "source": [
    "### Get Data From Users\n",
    "\n",
    "Time to get the user dataset, we'll collect the data of all users who participated in atleast one contest."
   ],
   "metadata": {}
  },
  {
   "cell_type": "code",
   "execution_count": 3,
   "source": [
    "def get_users():\r\n",
    "    user_url = \"https://codeforces.com/api/user.ratedList\"\r\n",
    "    user_data = requests.get(user_url).json()\r\n",
    "\r\n",
    "    user_data = user_data[\"result\"]\r\n",
    "\r\n",
    "    df = json_normalize(user_data)\r\n",
    "    return df\r\n",
    "\r\n",
    "def get_users_from_csv():\r\n",
    "    df = pd.read_csv(\"data/df_user.csv\", encoding='utf-8')\r\n",
    "    return df"
   ],
   "outputs": [],
   "metadata": {}
  },
  {
   "cell_type": "markdown",
   "source": [
    "The below code gets the submissions of one particular user."
   ],
   "metadata": {}
  },
  {
   "cell_type": "code",
   "execution_count": 4,
   "source": [
    "def get_user_submissions(handle):\r\n",
    "    start, count = (1, 999)\r\n",
    "\r\n",
    "    user_url = \"https://codeforces.com/api/user.status?handle={}&from={}&count={}\"\r\n",
    "    user_url = user_url.format(handle, start, count)\r\n",
    "    user_data = requests.get(user_url).json()\r\n",
    "\r\n",
    "    submissions = user_data[\"result\"]\r\n",
    "    df = json_normalize(submissions)\r\n",
    "    #print(df[df[\"verdict\"] == \"OK\"][\"problem.name\"] )\r\n",
    "    return df\r\n",
    "\r\n",
    "#df_submission = get_user_submissions(\"infnite_coder\")"
   ],
   "outputs": [],
   "metadata": {}
  },
  {
   "cell_type": "markdown",
   "source": [
    "Now lets remove the users based on the following conditions\n",
    " - have rating less than or equal to 0\n",
    " - have stayed inactive for more than 1 year.\n",
    "\n",
    " ### Note: Run this below cell only if there is no csv file present, otherwise skip to the next one."
   ],
   "metadata": {}
  },
  {
   "cell_type": "code",
   "execution_count": 40,
   "source": [
    "from datetime import datetime, date, timedelta\r\n",
    "\r\n",
    "df_user = get_users()\r\n",
    "\r\n",
    "df_user = df_user[['handle', 'country', 'rank', 'rating', 'maxRating', 'lastOnlineTimeSeconds']][df_user['rating']>0]\r\n",
    "\r\n",
    "now = datetime.now()\r\n",
    "lastYear = now.replace(year=now.year-1)\r\n",
    "\r\n",
    "df_user[\"lastOnline\"] = df_user['lastOnlineTimeSeconds'].map(lambda x: datetime.fromtimestamp(x))\r\n",
    "\r\n",
    "df_user = df_user[df_user['lastOnline']  > lastYear][df_user.columns.difference(['lastOnlineTimeSeconds'], sort=False)]\r\n",
    "\r\n",
    "df_user.to_csv(\"data/df_user.csv\", index=False, encoding='utf-8')"
   ],
   "outputs": [],
   "metadata": {}
  },
  {
   "cell_type": "markdown",
   "source": [
    "Run this cell to load values into a dataframe from csv\n",
    "### Note: Run this cell if you already have a df_user.csv with values stored."
   ],
   "metadata": {}
  },
  {
   "cell_type": "code",
   "execution_count": 5,
   "source": [
    "df_user = get_users_from_csv()\r\n",
    "print(df_user.head())"
   ],
   "outputs": [
    {
     "output_type": "stream",
     "name": "stdout",
     "text": [
      "              handle        country                   rank  rating  maxRating  \\\n",
      "0            tourist        Belarus  legendary grandmaster    3707       3822   \n",
      "1  Retired_MiFaFaOvO          Samoa  legendary grandmaster    3681       3681   \n",
      "2               Benq  United States  legendary grandmaster    3672       3797   \n",
      "3          Radewoosh         Poland  legendary grandmaster    3655       3720   \n",
      "4             ksun48         Canada  legendary grandmaster    3547       3654   \n",
      "\n",
      "            lastOnline  \n",
      "0  2021-09-23 14:19:54  \n",
      "1  2021-09-23 00:06:49  \n",
      "2  2021-09-23 08:59:18  \n",
      "3  2021-09-18 22:49:25  \n",
      "4  2021-09-23 08:32:43  \n"
     ]
    }
   ],
   "metadata": {}
  },
  {
   "cell_type": "code",
   "execution_count": 6,
   "source": [
    "def get_incorrect_user_submission(handle):\r\n",
    "    user_submission = get_user_submissions(handle)\r\n",
    "    return user_submission[user_submission[\"verdict\"] != \"OK\"][\"problem.name\"].head()\r\n",
    "\r\n",
    "def get_user_interactions(handle):\r\n",
    "    user_submission = get_user_submissions(handle)\r\n",
    "    if(len(user_submission.index) == 0):\r\n",
    "        return\r\n",
    "    problem_list = user_submission[user_submission[\"verdict\"] != \"OK\"][\"problem.name\"].unique()\r\n",
    "    for item in problem_list:\r\n",
    "        yield [handle, item, 1]\r\n",
    "\r\n",
    "def list_of_user_interactions():\r\n",
    "    combined_list = []\r\n",
    "    for user in df_user['handle']:\r\n",
    "        for gen_item in get_user_interactions(user):\r\n",
    "            combined_list.append(gen_item)\r\n",
    "    return combined_list"
   ],
   "outputs": [],
   "metadata": {}
  },
  {
   "cell_type": "code",
   "execution_count": 16,
   "source": [
    "cols=['handle', 'problem_name', 'wrong_submission']\r\n",
    "user_problem_interaction = pd.DataFrame(columns=cols)\r\n",
    "\r\n",
    "for user in df_user['handle']:\r\n",
    "    incorrect_user_submission = get_incorrect_user_submission(user)\r\n",
    "\r\n",
    "    problem_freq = dict()\r\n",
    "    for item in incorrect_user_submission:\r\n",
    "        if item in problem_freq.keys():\r\n",
    "            problem_freq[item] = problem_freq[item]+1\r\n",
    "        else:\r\n",
    "            problem_freq[item] = 1\r\n",
    "    \r\n",
    "    for item in problem_freq:\r\n",
    "        new_row = [user, item, problem_freq[item]]\r\n",
    "        df_new_row = pd.DataFrame([new_row], columns=cols)\r\n",
    "        user_problem_interaction = pd.concat([user_problem_interaction, df_new_row])\r\n",
    "        #user_problem_interaction.append({'handle': user, 'problem_name': item, 'wrong_submission': problem_freq[item]}, ignore_index=True)\r\n",
    "\r\n",
    "user_problem_interaction = user_problem_interaction.reset_index(drop=True)\r\n",
    "user_problem_interaction.to_csv(\"data/user_problem_interaction.csv\", index=False, encoding='utf-8')"
   ],
   "outputs": [],
   "metadata": {}
  },
  {
   "cell_type": "markdown",
   "source": [
    "### Cosine Similarity\n",
    "Now we are gonna start our project with content based filtering with cosine similarity"
   ],
   "metadata": {}
  },
  {
   "cell_type": "code",
   "execution_count": null,
   "source": [
    "import pandas as pd\r\n",
    "import numpy as np\r\n",
    "\r\n",
    "from sklearn.feature_extraction.text import CountVectorizer\r\n",
    "from sklearn.metrics.pairwise import cosine_similarity\r\n",
    "\r\n",
    "def combine_features(row):\r\n",
    "    return row[\"type\"]+\" \"+ \" \".join(row[\"tags\"])\r\n",
    "\r\n",
    "problems[\"combined_features\"] = problems.apply(combine_features, axis=1)\r\n",
    "\r\n",
    "count_matrix = CountVectorizer().fit_transform(problems[\"combined_features\"])\r\n",
    "cosine_sim = cosine_similarity(count_matrix)"
   ],
   "outputs": [],
   "metadata": {}
  },
  {
   "cell_type": "code",
   "execution_count": null,
   "source": [
    "def index_from_name(name):\r\n",
    "    return problems[problems.name == name].index\r\n",
    "\r\n",
    "problem_name = \"Armchairs\"\r\n",
    "index_of_prob = index_from_name(problem_name).values[0]\r\n",
    "tgs = problems.iloc[index_of_prob].tags\r\n",
    "\r\n",
    "# print(problems[problems[\"tags\"]])"
   ],
   "outputs": [],
   "metadata": {}
  }
 ],
 "metadata": {
  "interpreter": {
   "hash": "90f813e45ffbc6032975d51568b4e3652c90798aae0741a6c44bb16ed2e63418"
  },
  "kernelspec": {
   "name": "python3",
   "display_name": "Python 3.9.1 64-bit"
  },
  "language_info": {
   "codemirror_mode": {
    "name": "ipython",
    "version": 3
   },
   "file_extension": ".py",
   "mimetype": "text/x-python",
   "name": "python",
   "nbconvert_exporter": "python",
   "pygments_lexer": "ipython3",
   "version": "3.9.1"
  }
 },
 "nbformat": 4,
 "nbformat_minor": 2
}
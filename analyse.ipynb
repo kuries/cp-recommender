{
 "cells": [
  {
   "cell_type": "markdown",
   "source": [
    "## CP Recommendation System\n"
   ],
   "metadata": {}
  },
  {
   "cell_type": "code",
   "execution_count": 2,
   "source": [
    "#importing stuff\n",
    "import requests\n",
    "import json\n",
    "from pandas import json_normalize\n",
    "\n",
    "#load data\n",
    "tag_set = set()\n",
    "data = requests.get(\"https://codeforces.com/api/problemset.problems\").json()\n",
    "problems = data[\"result\"][\"problems\"]\n",
    "\n",
    "df = json_normalize(problems)\n",
    "print(df)"
   ],
   "outputs": [
    {
     "output_type": "stream",
     "name": "stdout",
     "text": [
      "      contestId index                          name         type  \\\n",
      "0          1569     F  Palindromic Hamiltonian Path  PROGRAMMING   \n",
      "1          1569     E           Playoff Restoration  PROGRAMMING   \n",
      "2          1569     D            Inconvenient Pairs  PROGRAMMING   \n",
      "3          1569     C                  Jury Meeting  PROGRAMMING   \n",
      "4          1569     B              Chess Tournament  PROGRAMMING   \n",
      "...         ...   ...                           ...          ...   \n",
      "7168          2     B           The least round way  PROGRAMMING   \n",
      "7169          2     A                        Winner  PROGRAMMING   \n",
      "7170          1     C        Ancient Berland Circus  PROGRAMMING   \n",
      "7171          1     B                   Spreadsheet  PROGRAMMING   \n",
      "7172          1     A                Theatre Square  PROGRAMMING   \n",
      "\n",
      "                                                   tags  points  rating  \n",
      "0            [brute force, dfs and similar, dp, graphs]     NaN     NaN  \n",
      "1     [bitmasks, brute force, hashing, implementatio...     NaN     NaN  \n",
      "2     [binary search, data structures, geometry, imp...     NaN     NaN  \n",
      "3                                 [combinatorics, math]     NaN     NaN  \n",
      "4                             [constructive algorithms]     NaN     NaN  \n",
      "...                                                 ...     ...     ...  \n",
      "7168                                         [dp, math]     NaN  2000.0  \n",
      "7169                          [hashing, implementation]     NaN  1500.0  \n",
      "7170                                   [geometry, math]     NaN  2100.0  \n",
      "7171                             [implementation, math]     NaN  1600.0  \n",
      "7172                                             [math]     NaN  1000.0  \n",
      "\n",
      "[7173 rows x 7 columns]\n"
     ]
    }
   ],
   "metadata": {}
  },
  {
   "cell_type": "markdown",
   "source": [
    "Now, lets find the different tags that are available in codeforces"
   ],
   "metadata": {}
  },
  {
   "cell_type": "code",
   "execution_count": 3,
   "source": [
    "# getting the tags\n",
    "for problem in problems:\n",
    "    if \"tags\" in problem:\n",
    "        for tag in problem[\"tags\"]:\n",
    "            if not tag in tag_set:\n",
    "                tag_set.add(tag)\n",
    "\n",
    "# for printing the tags\n",
    "with open(\"output.txt\", \"w\") as out:\n",
    "    for tag in tag_set:\n",
    "        print(tag, file=out)"
   ],
   "outputs": [],
   "metadata": {}
  },
  {
   "cell_type": "markdown",
   "source": [
    "Now, its time to get the data from the users"
   ],
   "metadata": {}
  },
  {
   "cell_type": "code",
   "execution_count": 6,
   "source": [
    "user_handle = \"infnite_coder\"\n",
    "start, count = (1, 999)\n",
    "\n",
    "user_url = \"https://codeforces.com/api/user.status?handle={}&from={}&count={}\"\n",
    "user_url = user_url.format(user_handle, start, count)\n",
    "user_data = requests.get(user_url).json()\n",
    "\n",
    "submissions = user_data[\"result\"]\n",
    "\n",
    "df2 = json_normalize(submissions)\n",
    "\n",
    "print(df2[df2[\"verdict\"] == \"OK\"][\"problem.name\"] )"
   ],
   "outputs": [
    {
     "output_type": "stream",
     "name": "stdout",
     "text": [
      "4      Balanced Substring\n",
      "6     Pretty Permutations\n",
      "12       Arithmetic Array\n",
      "13              Armchairs\n",
      "14       Robot Collisions\n",
      "15       Permutation Sort\n",
      "19          Potion-making\n",
      "20    Partial Replacement\n",
      "21          Strange Table\n",
      "27     Advertising Agency\n",
      "31            Odd Divisor\n",
      "33      New Year's Number\n",
      "Name: problem.name, dtype: object\n"
     ]
    }
   ],
   "metadata": {}
  }
 ],
 "metadata": {
  "orig_nbformat": 4,
  "language_info": {
   "name": "python",
   "version": "3.8.10",
   "mimetype": "text/x-python",
   "codemirror_mode": {
    "name": "ipython",
    "version": 3
   },
   "pygments_lexer": "ipython3",
   "nbconvert_exporter": "python",
   "file_extension": ".py"
  },
  "kernelspec": {
   "name": "python3",
   "display_name": "Python 3.8.10 64-bit ('venv': venv)"
  },
  "interpreter": {
   "hash": "633bf5a9eb2a6d16376802f32ce8ab139c851ebe1be0c6931aa4c0f2894be643"
  }
 },
 "nbformat": 4,
 "nbformat_minor": 2
}
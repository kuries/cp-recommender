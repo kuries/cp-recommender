{
 "cells": [
  {
   "cell_type": "markdown",
   "source": [
    "# CP Recommendation System\n"
   ],
   "metadata": {}
  },
  {
   "cell_type": "markdown",
   "source": [
    "## Content Based filtering\n",
    "\n",
    "First let's start with content based filtering\n",
    "Here, we'll be concatenating the tags into a single string and run cosine similarity based on text to find the similarity between this particular problem and other problems\n"
   ],
   "metadata": {}
  },
  {
   "cell_type": "code",
   "execution_count": 5,
   "source": [
    "#importing stuff\n",
    "import requests\n",
    "import json\n",
    "from pandas import json_normalize\n",
    "\n",
    "#load data\n",
    "tag_set = set()\n",
    "data = requests.get(\"https://codeforces.com/api/problemset.problems\").json()\n",
    "problems_json = data[\"result\"][\"problems\"]\n",
    "\n",
    "problems = json_normalize(problems_json)\n",
    "print(problems.isnull().sum())"
   ],
   "outputs": [
    {
     "output_type": "stream",
     "name": "stdout",
     "text": [
      "contestId       0\n",
      "index           0\n",
      "name            0\n",
      "type            0\n",
      "rating        166\n",
      "tags            0\n",
      "points       2099\n",
      "dtype: int64\n"
     ]
    }
   ],
   "metadata": {}
  },
  {
   "cell_type": "markdown",
   "source": [
    "As we can see, one of the columns has the name index which is overriding the original column \"index\", so let's rename it to something else."
   ],
   "metadata": {}
  },
  {
   "cell_type": "code",
   "execution_count": 6,
   "source": [
    "column_list = list(problems.columns)\n",
    "column_list[1] = \"ID\"\n",
    "problems.columns = column_list\n",
    "print(problems.isnull().sum())"
   ],
   "outputs": [
    {
     "output_type": "stream",
     "name": "stdout",
     "text": [
      "contestId       0\n",
      "ID              0\n",
      "name            0\n",
      "type            0\n",
      "rating        166\n",
      "tags            0\n",
      "points       2099\n",
      "dtype: int64\n"
     ]
    }
   ],
   "metadata": {}
  },
  {
   "cell_type": "markdown",
   "source": [
    "Now, lets find the different tags that are available in codeforces\n",
    "\n",
    "In this code cell, we'll be finding all the various different tags avaialable in codeforces and print them in an output file."
   ],
   "metadata": {}
  },
  {
   "cell_type": "code",
   "execution_count": 4,
   "source": [
    "# getting the tags\n",
    "for problem in problems:\n",
    "    if \"tags\" in problem:\n",
    "        for tag in problem[\"tags\"]:\n",
    "            if not tag in tag_set:\n",
    "                tag_set.add(tag)\n",
    "\n",
    "# for printing the tags\n",
    "with open(\"output.txt\", \"w\") as out:\n",
    "    for tag in tag_set:\n",
    "        print(tag, file=out)"
   ],
   "outputs": [],
   "metadata": {}
  },
  {
   "cell_type": "markdown",
   "source": [
    "### Get Data From Users\n",
    "Now, its time to get the data from the users  \n",
    "The below code gets the submissions of one particular user."
   ],
   "metadata": {}
  },
  {
   "cell_type": "code",
   "execution_count": 7,
   "source": [
    "def get_user_submissions(handle):\n",
    "    start, count = (1, 999)\n",
    "\n",
    "    user_url = \"https://codeforces.com/api/user.status?handle={}&from={}&count={}\"\n",
    "    user_url = user_url.format(handle, start, count)\n",
    "    user_data = requests.get(user_url).json()\n",
    "\n",
    "    submissions = user_data[\"result\"]\n",
    "    df = json_normalize(submissions)\n",
    "    print(df[df[\"verdict\"] == \"OK\"][\"problem.name\"] )\n",
    "    return df\n",
    "\n",
    "# df_submission = get_user_submissions(\"infnite_coder\")"
   ],
   "outputs": [],
   "metadata": {}
  },
  {
   "cell_type": "markdown",
   "source": [
    "Time to get the user dataset, we'll collect the data of all users who participated in atleast one contest."
   ],
   "metadata": {}
  },
  {
   "cell_type": "code",
   "execution_count": 8,
   "source": [
    "def get_users_into_csv():\n",
    "    user_url = \"https://codeforces.com/api/user.ratedList\"\n",
    "    user_data = requests.get(user_url).json()\n",
    "\n",
    "    user_data = user_data[\"result\"]\n",
    "\n",
    "    df = json_normalize(user_data)\n",
    "    return df\n",
    "\n",
    "df_user = get_users_into_csv()"
   ],
   "outputs": [],
   "metadata": {}
  },
  {
   "cell_type": "code",
   "execution_count": 9,
   "source": [
    "df_user_sliced = df_user[['handle', 'country', 'rank', 'rating', 'maxRating']]\n",
    "print(df_user_sliced.head())"
   ],
   "outputs": [
    {
     "output_type": "stream",
     "name": "stdout",
     "text": [
      "              handle        country                   rank  rating  maxRating\n",
      "0            tourist        Belarus  legendary grandmaster    3707       3822\n",
      "1  Retired_MiFaFaOvO          Samoa  legendary grandmaster    3681       3681\n",
      "2               Benq  United States  legendary grandmaster    3672       3797\n",
      "3          Radewoosh         Poland  legendary grandmaster    3655       3720\n",
      "4             ksun48         Canada  legendary grandmaster    3547       3654\n"
     ]
    }
   ],
   "metadata": {}
  },
  {
   "cell_type": "code",
   "execution_count": 8,
   "source": [
    "# print(df_user_sliced[df_user_sliced['handle'] == 'infnite_coder'])"
   ],
   "outputs": [],
   "metadata": {}
  },
  {
   "cell_type": "markdown",
   "source": [
    "### Cosine Similarity\n",
    "Now we are gonna start our project with content based filtering with cosine similarity"
   ],
   "metadata": {}
  },
  {
   "cell_type": "code",
   "execution_count": 9,
   "source": [
    "import pandas as pd\n",
    "import numpy as np\n",
    "\n",
    "from sklearn.feature_extraction.text import CountVectorizer\n",
    "from sklearn.metrics.pairwise import cosine_similarity\n",
    "\n",
    "def combine_features(row):\n",
    "    return row[\"type\"]+\" \"+ \" \".join(row[\"tags\"])\n",
    "\n",
    "problems[\"combined_features\"] = problems.apply(combine_features, axis=1)\n",
    "\n",
    "count_matrix = CountVectorizer().fit_transform(problems[\"combined_features\"])\n",
    "cosine_sim = cosine_similarity(count_matrix)"
   ],
   "outputs": [],
   "metadata": {}
  },
  {
   "cell_type": "code",
   "execution_count": null,
   "source": [
    "def index_from_name(name):\n",
    "    return problems[problems.name == name].index\n",
    "\n",
    "problem_name = \"Armchairs\"\n",
    "index_of_prob = index_from_name(problem_name).values[0]\n",
    "tgs = problems.iloc[index_of_prob].tags\n",
    "\n",
    "# print(problems[problems[\"tags\"]])"
   ],
   "outputs": [],
   "metadata": {}
  }
 ],
 "metadata": {
  "orig_nbformat": 4,
  "language_info": {
   "name": "python",
   "version": "3.8.10",
   "mimetype": "text/x-python",
   "codemirror_mode": {
    "name": "ipython",
    "version": 3
   },
   "pygments_lexer": "ipython3",
   "nbconvert_exporter": "python",
   "file_extension": ".py"
  },
  "kernelspec": {
   "name": "python3",
   "display_name": "Python 3.8.10 64-bit ('venv': venv)"
  },
  "interpreter": {
   "hash": "633bf5a9eb2a6d16376802f32ce8ab139c851ebe1be0c6931aa4c0f2894be643"
  }
 },
 "nbformat": 4,
 "nbformat_minor": 2
}
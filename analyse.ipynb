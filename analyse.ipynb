{
 "cells": [
  {
   "cell_type": "markdown",
   "source": [
    "# CP Recommendation System\n"
   ],
   "metadata": {}
  },
  {
   "cell_type": "markdown",
   "source": [
    "## Content Based filtering\n",
    "\n",
    "First let's start with content based filtering\n",
    "Here, we'll be concatenating the tags into a single string and run cosine similarity based on text to find the similarity between this particular problem and other problems\n"
   ],
   "metadata": {}
  },
  {
   "cell_type": "code",
   "execution_count": 1,
   "source": [
    "#importing stuff\n",
    "import requests\n",
    "import json\n",
    "from pandas import json_normalize\n",
    "import pandas as pd\n",
    "\n",
    "#load data\n",
    "tag_set = set()\n",
    "data = requests.get(\"https://codeforces.com/api/problemset.problems\").json()\n",
    "problems_json = data[\"result\"][\"problems\"]\n",
    "\n",
    "problems = json_normalize(problems_json)\n",
    "print(problems.isnull().sum())"
   ],
   "outputs": [
    {
     "output_type": "stream",
     "name": "stdout",
     "text": [
      "contestId       0\n",
      "index           0\n",
      "name            0\n",
      "type            0\n",
      "points       2133\n",
      "tags            0\n",
      "rating        186\n",
      "dtype: int64\n"
     ]
    }
   ],
   "metadata": {}
  },
  {
   "cell_type": "markdown",
   "source": [
    "As we can see, one of the columns has the name index which is overriding the original column \"index\", so let's rename it to something else."
   ],
   "metadata": {}
  },
  {
   "cell_type": "code",
   "execution_count": 2,
   "source": [
    "column_list = list(problems.columns)\n",
    "column_list[1] = \"ID\"\n",
    "problems.columns = column_list\n",
    "print(problems.isnull().sum())"
   ],
   "outputs": [
    {
     "output_type": "stream",
     "name": "stdout",
     "text": [
      "contestId       0\n",
      "ID              0\n",
      "name            0\n",
      "type            0\n",
      "points       2133\n",
      "tags            0\n",
      "rating        186\n",
      "dtype: int64\n"
     ]
    }
   ],
   "metadata": {}
  },
  {
   "cell_type": "markdown",
   "source": [
    "### Get Data From Users\n",
    "\n",
    "Time to get the user dataset, we'll collect the data of all users who participated in atleast one contest."
   ],
   "metadata": {}
  },
  {
   "cell_type": "code",
   "execution_count": 3,
   "source": [
    "def get_users():\n",
    "    user_url = \"https://codeforces.com/api/user.ratedList\"\n",
    "    user_data = requests.get(user_url).json()\n",
    "\n",
    "    user_data = user_data[\"result\"]\n",
    "\n",
    "    df = json_normalize(user_data)\n",
    "    return df\n",
    "\n",
    "def get_users_from_csv():\n",
    "    df = pd.read_csv(\"data/df_user.csv\", encoding='utf-8')\n",
    "    return df\n"
   ],
   "outputs": [],
   "metadata": {}
  },
  {
   "cell_type": "markdown",
   "source": [
    "The below code gets the submissions of one particular user."
   ],
   "metadata": {}
  },
  {
   "cell_type": "code",
   "execution_count": 53,
   "source": [
    "def get_user_submissions(handle):\n",
    "    start, count = (1, 999)\n",
    "\n",
    "    user_url = \"https://codeforces.com/api/user.status?handle={}&from={}&count={}\"\n",
    "    user_url = user_url.format(handle, start, count)\n",
    "    user_data = requests.get(user_url).json()\n",
    "    #if the response body is empty\n",
    "    if user_data['status'] != 'OK':\n",
    "        return pd.DataFrame()\n",
    "    submissions = user_data[\"result\"]\n",
    "    df = json_normalize(submissions)\n",
    "    return df"
   ],
   "outputs": [],
   "metadata": {}
  },
  {
   "cell_type": "markdown",
   "source": [
    "Now lets remove the users based on the following conditions\n",
    " - have rating less than or equal to 0\n",
    " - have stayed inactive for more than 1 year.\n",
    "\n",
    " ### Note: Run this below cell only if there is no csv file present, otherwise skip to the next one."
   ],
   "metadata": {}
  },
  {
   "cell_type": "code",
   "execution_count": 5,
   "source": [
    "df_user = get_users()"
   ],
   "outputs": [],
   "metadata": {}
  },
  {
   "cell_type": "code",
   "execution_count": 6,
   "source": [
    "from datetime import datetime, date, timedelta\n",
    "\n",
    "df_user = df_user[['handle', 'country', 'rank', 'rating', 'maxRating', 'lastOnlineTimeSeconds']][df_user['rating']>0]\n",
    "\n",
    "now = datetime.now()\n",
    "lastYear = now.replace(year=now.year-1)\n",
    "\n",
    "df_user[\"lastOnline\"] = df_user['lastOnlineTimeSeconds'].map(lambda x: datetime.fromtimestamp(x))\n",
    "\n",
    "df_user = df_user[df_user['lastOnline']  > lastYear][df_user.columns.difference(['lastOnlineTimeSeconds'], sort=False)]\n",
    "\n",
    "df_user.to_csv(\"data/df_user.csv\", index=False, encoding='utf-8')"
   ],
   "outputs": [],
   "metadata": {}
  },
  {
   "cell_type": "markdown",
   "source": [
    "Run this cell to load values into a dataframe from csv\n",
    "### Note: Run this cell if you already have a df_user.csv with values stored."
   ],
   "metadata": {}
  },
  {
   "cell_type": "code",
   "execution_count": 70,
   "source": [
    "df_user_total = get_users_from_csv()\n",
    "df_user = df_user_total"
   ],
   "outputs": [],
   "metadata": {}
  },
  {
   "cell_type": "code",
   "execution_count": 66,
   "source": [
    "def get_incorrect_user_submission(handle):\n",
    "    user_submission = get_user_submissions(handle)\n",
    "    return user_submission[user_submission[\"verdict\"] != \"OK\"][\"problem.name\"]\n",
    "\n",
    "def get_user_interactions(handle):\n",
    "    user_submission = get_user_submissions(handle)\n",
    "    if(len(user_submission.index) == 0):\n",
    "        return\n",
    "    problem_list = user_submission[user_submission[\"verdict\"] != \"OK\"][\"problem.name\"].unique()\n",
    "    for item in problem_list:\n",
    "        yield [handle, item, 1]\n",
    "\n",
    "def list_of_user_interactions():\n",
    "    combined_list = []\n",
    "    for user in df_user['handle']:\n",
    "        for gen_item in get_user_interactions(user):\n",
    "            combined_list.append(gen_item)\n",
    "    return combined_list"
   ],
   "outputs": [],
   "metadata": {}
  },
  {
   "cell_type": "code",
   "execution_count": null,
   "source": [
    "cols=['handle', 'problem_name', 'wrong_submission']\n",
    "user_problem_interaction = pd.DataFrame(columns=cols)\n",
    "\n",
    "for user in df_user['handle']:\n",
    "    incorrect_user_submission = get_incorrect_user_submission(user)\n",
    "\n",
    "    problem_freq = dict()\n",
    "    for item in incorrect_user_submission:\n",
    "        if item in problem_freq.keys():\n",
    "            problem_freq[item] = problem_freq[item]+1\n",
    "        else:\n",
    "            problem_freq[item] = 1\n",
    "    \n",
    "    for item in problem_freq:\n",
    "        new_row = [user, item, problem_freq[item]]\n",
    "        df_new_row = pd.DataFrame([new_row], columns=cols)\n",
    "        user_problem_interaction = pd.concat([user_problem_interaction, df_new_row])\n",
    "        #user_problem_interaction.append({'handle': user, 'problem_name': item, 'wrong_submission': problem_freq[item]}, ignore_index=True)\n",
    "\n",
    "user_problem_interaction = user_problem_interaction.reset_index(drop=True)\n",
    "user_problem_interaction.to_csv(\"data/user_problem_interaction.csv\", index=False, encoding='utf-8')"
   ],
   "outputs": [],
   "metadata": {}
  },
  {
   "cell_type": "markdown",
   "source": [
    "### Cosine Similarity\n",
    "Now we are gonna start our project with content based filtering with cosine similarity"
   ],
   "metadata": {}
  },
  {
   "cell_type": "code",
   "execution_count": null,
   "source": [
    "import pandas as pd\n",
    "import numpy as np\n",
    "\n",
    "from sklearn.feature_extraction.text import CountVectorizer\n",
    "from sklearn.metrics.pairwise import cosine_similarity\n",
    "\n",
    "def combine_features(row):\n",
    "    return row[\"type\"]+\" \"+ \" \".join(row[\"tags\"])\n",
    "\n",
    "problems[\"combined_features\"] = problems.apply(combine_features, axis=1)\n",
    "\n",
    "count_matrix = CountVectorizer().fit_transform(problems[\"combined_features\"])\n",
    "cosine_sim = cosine_similarity(count_matrix)"
   ],
   "outputs": [],
   "metadata": {}
  },
  {
   "cell_type": "code",
   "execution_count": null,
   "source": [
    "def index_from_name(name):\n",
    "    return problems[problems.name == name].index\n",
    "\n",
    "problem_name = \"Armchairs\"\n",
    "index_of_prob = index_from_name(problem_name).values[0]\n",
    "tgs = problems.iloc[index_of_prob].tags\n",
    "\n",
    "# print(problems[problems[\"tags\"]])"
   ],
   "outputs": [],
   "metadata": {}
  },
  {
   "cell_type": "markdown",
   "source": [
    "### Neural Network"
   ],
   "metadata": {}
  },
  {
   "cell_type": "code",
   "execution_count": null,
   "source": [
    "df_user = df_user_total.sample(frac=0.01)\n",
    "\n",
    "def batch_list_of_user_interactions(x):\n",
    "    combined_list = []\n",
    "    for user in df_user.iloc[x: x+50]['handle']:\n",
    "        for gen_item in get_user_interactions(user):\n",
    "            combined_list.append(gen_item)\n",
    "    return combined_list"
   ],
   "outputs": [],
   "metadata": {}
  },
  {
   "cell_type": "code",
   "execution_count": null,
   "source": [
    "# df_user_interaction = pd.DataFrame(list_of_user_interactions(), columns=['handle', 'problem', 'rating'])\n",
    "# print(len(df_user_interaction))\n",
    "combined_list = []\n",
    "for i in range(0, 1, 50):\n",
    "    combined_list.extend(list_of_user_interactions(i))\n",
    "print(combined_list)"
   ],
   "outputs": [],
   "metadata": {}
  }
 ],
 "metadata": {
  "orig_nbformat": 4,
  "language_info": {
   "name": "python",
   "version": "3.8.10",
   "mimetype": "text/x-python",
   "codemirror_mode": {
    "name": "ipython",
    "version": 3
   },
   "pygments_lexer": "ipython3",
   "nbconvert_exporter": "python",
   "file_extension": ".py"
  },
  "kernelspec": {
   "name": "python3",
   "display_name": "Python 3.8.10 64-bit ('venv': venv)"
  },
  "interpreter": {
   "hash": "633bf5a9eb2a6d16376802f32ce8ab139c851ebe1be0c6931aa4c0f2894be643"
  }
 },
 "nbformat": 4,
 "nbformat_minor": 2
}
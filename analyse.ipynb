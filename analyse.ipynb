{
 "cells": [
  {
   "cell_type": "markdown",
   "source": [
    "## CP Recommendation System\n"
   ],
   "metadata": {}
  },
  {
   "cell_type": "code",
   "execution_count": null,
   "source": [
    "#importing stuff\n",
    "import requests\n",
    "import json\n",
    "from pandas import json_normalize\n",
    "\n",
    "#load data\n",
    "tag_set = set()\n",
    "data = requests.get(\"https://codeforces.com/api/problemset.problems\").json()\n",
    "problems = data[\"result\"][\"problems\"]\n",
    "\n",
    "df = json_normalize(problems)\n",
    "print(df)"
   ],
   "outputs": [],
   "metadata": {}
  },
  {
   "cell_type": "markdown",
   "source": [
    "Now, lets find the different tags that are available in codeforces"
   ],
   "metadata": {}
  },
  {
   "cell_type": "code",
   "execution_count": 3,
   "source": [
    "# getting the tags\n",
    "for problem in problems:\n",
    "    if \"tags\" in problem:\n",
    "        for tag in problem[\"tags\"]:\n",
    "            if not tag in tag_set:\n",
    "                tag_set.add(tag)\n",
    "\n",
    "# for printing the tags\n",
    "with open(\"output.txt\", \"w\") as out:\n",
    "    for tag in tag_set:\n",
    "        print(tag, file=out)"
   ],
   "outputs": [],
   "metadata": {}
  },
  {
   "cell_type": "markdown",
   "source": [
    "Now, its time to get the data from the users"
   ],
   "metadata": {}
  },
  {
   "cell_type": "code",
   "execution_count": null,
   "source": [],
   "outputs": [],
   "metadata": {}
  }
 ],
 "metadata": {
  "orig_nbformat": 4,
  "language_info": {
   "name": "python",
   "version": "3.8.10",
   "mimetype": "text/x-python",
   "codemirror_mode": {
    "name": "ipython",
    "version": 3
   },
   "pygments_lexer": "ipython3",
   "nbconvert_exporter": "python",
   "file_extension": ".py"
  },
  "kernelspec": {
   "name": "python3",
   "display_name": "Python 3.8.10 64-bit ('venv': venv)"
  },
  "interpreter": {
   "hash": "633bf5a9eb2a6d16376802f32ce8ab139c851ebe1be0c6931aa4c0f2894be643"
  }
 },
 "nbformat": 4,
 "nbformat_minor": 2
}
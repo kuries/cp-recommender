{
 "cells": [
  {
   "cell_type": "markdown",
   "source": [
    "## CP Recommendation System\n"
   ],
   "metadata": {}
  },
  {
   "cell_type": "code",
   "execution_count": null,
   "source": [
    "#importing stuff\r\n",
    "import requests\r\n",
    "import json\r\n",
    "from pandas import json_normalize\r\n",
    "\r\n",
    "#load data\r\n",
    "tag_set = set()\r\n",
    "data = requests.get(\"https://codeforces.com/api/problemset.problems\").json()\r\n",
    "problems = data[\"result\"][\"problems\"]\r\n",
    "\r\n",
    "df = json_normalize(problems)\r\n",
    "print(df)"
   ],
   "outputs": [],
   "metadata": {}
  },
  {
   "cell_type": "markdown",
   "source": [
    "Now, lets find the different tags that are available in codeforces"
   ],
   "metadata": {}
  },
  {
   "cell_type": "code",
   "execution_count": 3,
   "source": [
    "# getting the tags\r\n",
    "for problem in problems:\r\n",
    "    if \"tags\" in problem:\r\n",
    "        for tag in problem[\"tags\"]:\r\n",
    "            if not tag in tag_set:\r\n",
    "                tag_set.add(tag)\r\n",
    "\r\n",
    "# for printing the tags\r\n",
    "with open(\"output.txt\", \"w\") as out:\r\n",
    "    for tag in tag_set:\r\n",
    "        print(tag, file=out)"
   ],
   "outputs": [],
   "metadata": {}
  },
  {
   "cell_type": "markdown",
   "source": [
    "Now, its time to get the data from the users"
   ],
   "metadata": {}
  },
  {
   "cell_type": "code",
   "execution_count": 50,
   "source": [
    "#import csv\r\n",
    "\r\n",
    "user_handle = input()\r\n",
    "start, count = map(int, input().split())\r\n",
    "\r\n",
    "user_url = (\"https://codeforces.com/api/user.status?handle={}&from={}&count={}\")\r\n",
    "user_url = user_url.format(user_handle, start, count)\r\n",
    "user_data = requests.get(user_url).json()\r\n",
    "\r\n",
    "submissions = user_data[\"result\"]\r\n",
    "\r\n",
    "df2 = json_normalize(submissions)\r\n",
    "\r\n",
    "#write_file = 'D:\\Recommender'\r\n",
    "#with open (write_file,'w', newline='') as fout:\r\n",
    "#    writer = csv.writer(fout, linetermintor='\\n')\r\n",
    "#    writer.writerows(submission_list)\r\n",
    "\r\n",
    "counter = 0\r\n",
    "for item1, item2 in zip(list(df2.verdict), list(df2.id)):\r\n",
    "    if item1 == 'OK':\r\n",
    "        print(item2)"
   ],
   "outputs": [
    {
     "output_type": "stream",
     "name": "stdout",
     "text": [
      "128248731\n",
      "111040832\n",
      "111003776\n",
      "91798489\n",
      "91773138\n"
     ]
    }
   ],
   "metadata": {}
  }
 ],
 "metadata": {
  "orig_nbformat": 4,
  "language_info": {
   "name": "python",
   "version": "3.9.1",
   "mimetype": "text/x-python",
   "codemirror_mode": {
    "name": "ipython",
    "version": 3
   },
   "pygments_lexer": "ipython3",
   "nbconvert_exporter": "python",
   "file_extension": ".py"
  },
  "kernelspec": {
   "name": "python3",
   "display_name": "Python 3.9.1 64-bit"
  },
  "interpreter": {
   "hash": "90f813e45ffbc6032975d51568b4e3652c90798aae0741a6c44bb16ed2e63418"
  }
 },
 "nbformat": 4,
 "nbformat_minor": 2
}
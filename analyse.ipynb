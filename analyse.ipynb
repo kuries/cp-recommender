{
 "cells": [
  {
   "cell_type": "markdown",
   "source": [
    "# CP Recommendation System\n"
   ],
   "metadata": {}
  },
  {
   "cell_type": "markdown",
   "source": [
    "## Content Based filtering\n",
    "\n",
    "First let's start with content based filtering\n",
    "Here, we'll be concatenating the tags into a single string and run cosine similarity based on text to find the similarity between this particular problem and other problems\n"
   ],
   "metadata": {}
  },
  {
   "cell_type": "code",
   "execution_count": 33,
   "source": [
    "#importing stuff\n",
    "import requests\n",
    "import json\n",
    "from pandas import json_normalize\n",
    "import pandas as pd\n",
    "\n",
    "#load data\n",
    "tag_set = set()\n",
    "data = requests.get(\"https://codeforces.com/api/problemset.problems\").json()\n",
    "problems_json = data[\"result\"][\"problems\"]\n",
    "\n",
    "problems = json_normalize(problems_json)\n",
    "print(problems.isnull().sum())"
   ],
   "outputs": [
    {
     "output_type": "stream",
     "name": "stdout",
     "text": [
      "contestId       0\n",
      "index           0\n",
      "name            0\n",
      "type            0\n",
      "rating        166\n",
      "tags            0\n",
      "points       2099\n",
      "dtype: int64\n"
     ]
    }
   ],
   "metadata": {}
  },
  {
   "cell_type": "markdown",
   "source": [
    "As we can see, one of the columns has the name index which is overriding the original column \"index\", so let's rename it to something else."
   ],
   "metadata": {}
  },
  {
   "cell_type": "code",
   "execution_count": 34,
   "source": [
    "column_list = list(problems.columns)\n",
    "column_list[1] = \"ID\"\n",
    "problems.columns = column_list\n",
    "print(problems.isnull().sum())"
   ],
   "outputs": [
    {
     "output_type": "stream",
     "name": "stdout",
     "text": [
      "contestId       0\n",
      "ID              0\n",
      "name            0\n",
      "type            0\n",
      "rating        166\n",
      "tags            0\n",
      "points       2099\n",
      "dtype: int64\n"
     ]
    }
   ],
   "metadata": {}
  },
  {
   "cell_type": "markdown",
   "source": [
    "### Get Data From Users\n",
    "\n",
    "Time to get the user dataset, we'll collect the data of all users who participated in atleast one contest."
   ],
   "metadata": {}
  },
  {
   "cell_type": "code",
   "execution_count": 36,
   "source": [
    "def get_users():\n",
    "    user_url = \"https://codeforces.com/api/user.ratedList\"\n",
    "    user_data = requests.get(user_url).json()\n",
    "\n",
    "    user_data = user_data[\"result\"]\n",
    "\n",
    "    df = json_normalize(user_data)\n",
    "    return df\n",
    "\n",
    "def get_users_from_csv():\n",
    "    df = pd.read_csv(\"data/df_user_sliced.csv\", encoding='utf-8')\n",
    "    return df\n"
   ],
   "outputs": [],
   "metadata": {}
  },
  {
   "cell_type": "markdown",
   "source": [
    "The below code gets the submissions of one particular user."
   ],
   "metadata": {}
  },
  {
   "cell_type": "code",
   "execution_count": 35,
   "source": [
    "def get_user_submissions(handle):\n",
    "    start, count = (1, 999)\n",
    "\n",
    "    user_url = \"https://codeforces.com/api/user.status?handle={}&from={}&count={}\"\n",
    "    user_url = user_url.format(handle, start, count)\n",
    "    user_data = requests.get(user_url).json()\n",
    "\n",
    "    submissions = user_data[\"result\"]\n",
    "    df = json_normalize(submissions)\n",
    "    print(df[df[\"verdict\"] == \"OK\"][\"problem.name\"] )\n",
    "    return df\n",
    "\n",
    "# df_submission = get_user_submissions(\"infnite_coder\")"
   ],
   "outputs": [],
   "metadata": {}
  },
  {
   "cell_type": "markdown",
   "source": [
    "Now lets remove the users based on the following conditions\n",
    " - have rating less than or equal to 0\n",
    " - have stayed inactive for more than 1 year.\n",
    "\n",
    " ### Note: Run this below cell only if there is no csv file present, otherwise skip to the next one."
   ],
   "metadata": {}
  },
  {
   "cell_type": "code",
   "execution_count": 40,
   "source": [
    "from datetime import datetime, date, timedelta\n",
    "\n",
    "df_user = get_users()\n",
    "\n",
    "df_user = df_user[['handle', 'country', 'rank', 'rating', 'maxRating', 'lastOnlineTimeSeconds']][df_user['rating']>0]\n",
    "\n",
    "now = datetime.now()\n",
    "lastYear = now.replace(year=now.year-1)\n",
    "\n",
    "df_user[\"lastOnline\"] = df_user['lastOnlineTimeSeconds'].map(lambda x: datetime.fromtimestamp(x))\n",
    "\n",
    "df_user = df_user[df_user['lastOnline']  > lastYear][df_user.columns.difference(['lastOnlineTimeSeconds'], sort=False)]\n",
    "\n",
    "df_user.to_csv(\"data/df_user.csv\", index=False, encoding='utf-8')"
   ],
   "outputs": [],
   "metadata": {}
  },
  {
   "cell_type": "markdown",
   "source": [
    "Run this cell to load values into a dataframe from csv\n",
    "### Note: Run this cell if you already have a df_user.csv with values stored."
   ],
   "metadata": {}
  },
  {
   "cell_type": "code",
   "execution_count": 38,
   "source": [
    "df_user = get_users_from_csv()\n",
    "print(df_user.head())"
   ],
   "outputs": [
    {
     "output_type": "stream",
     "name": "stdout",
     "text": [
      "              handle        country                   rank  rating  maxRating  \\\n",
      "0            tourist        Belarus  legendary grandmaster    3707       3822   \n",
      "1  Retired_MiFaFaOvO          Samoa  legendary grandmaster    3681       3681   \n",
      "2               Benq  United States  legendary grandmaster    3672       3797   \n",
      "3          Radewoosh         Poland  legendary grandmaster    3655       3720   \n",
      "4             ksun48         Canada  legendary grandmaster    3547       3654   \n",
      "\n",
      "            lastOnline  \n",
      "0  2021-09-23 14:19:54  \n",
      "1  2021-09-23 00:06:49  \n",
      "2  2021-09-23 08:59:18  \n",
      "3  2021-09-18 22:49:25  \n",
      "4  2021-09-23 08:32:43  \n"
     ]
    }
   ],
   "metadata": {}
  },
  {
   "cell_type": "markdown",
   "source": [
    "### Cosine Similarity\n",
    "Now we are gonna start our project with content based filtering with cosine similarity"
   ],
   "metadata": {}
  },
  {
   "cell_type": "code",
   "execution_count": null,
   "source": [
    "import pandas as pd\n",
    "import numpy as np\n",
    "\n",
    "from sklearn.feature_extraction.text import CountVectorizer\n",
    "from sklearn.metrics.pairwise import cosine_similarity\n",
    "\n",
    "def combine_features(row):\n",
    "    return row[\"type\"]+\" \"+ \" \".join(row[\"tags\"])\n",
    "\n",
    "problems[\"combined_features\"] = problems.apply(combine_features, axis=1)\n",
    "\n",
    "count_matrix = CountVectorizer().fit_transform(problems[\"combined_features\"])\n",
    "cosine_sim = cosine_similarity(count_matrix)"
   ],
   "outputs": [],
   "metadata": {}
  },
  {
   "cell_type": "code",
   "execution_count": null,
   "source": [
    "def index_from_name(name):\n",
    "    return problems[problems.name == name].index\n",
    "\n",
    "problem_name = \"Armchairs\"\n",
    "index_of_prob = index_from_name(problem_name).values[0]\n",
    "tgs = problems.iloc[index_of_prob].tags\n",
    "\n",
    "# print(problems[problems[\"tags\"]])"
   ],
   "outputs": [],
   "metadata": {}
  }
 ],
 "metadata": {
  "orig_nbformat": 4,
  "language_info": {
   "name": "python",
   "version": "3.8.10",
   "mimetype": "text/x-python",
   "codemirror_mode": {
    "name": "ipython",
    "version": 3
   },
   "pygments_lexer": "ipython3",
   "nbconvert_exporter": "python",
   "file_extension": ".py"
  },
  "kernelspec": {
   "name": "python3",
   "display_name": "Python 3.8.10 64-bit ('venv': venv)"
  },
  "interpreter": {
   "hash": "633bf5a9eb2a6d16376802f32ce8ab139c851ebe1be0c6931aa4c0f2894be643"
  }
 },
 "nbformat": 4,
 "nbformat_minor": 2
}